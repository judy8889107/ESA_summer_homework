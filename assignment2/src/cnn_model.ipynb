{
 "cells": [
  {
   "attachments": {},
   "cell_type": "markdown",
   "metadata": {},
   "source": [
    "### 導入套件\n",
    "\n",
    "cv2：opencv 是計算機視覺，應用於照片識別人臉標示人名\n"
   ]
  },
  {
   "cell_type": "code",
   "execution_count": 28,
   "metadata": {},
   "outputs": [],
   "source": [
    "import numpy as np\n",
    "import pandas as pd\n",
    "import matplotlib.pyplot as plt\n",
    "import cv2\n",
    "import tensorflow as tf"
   ]
  },
  {
   "cell_type": "code",
   "execution_count": 29,
   "metadata": {},
   "outputs": [],
   "source": [
    "from tensorflow.keras.preprocessing.image import load_img, img_to_array\n",
    "from tensorflow.keras.models import Sequential\n",
    "from tensorflow.keras.models import load_model\n",
    "from tensorflow.keras.layers import Dense, Flatten, Dropout, Activation, Conv2D, MaxPooling2D"
   ]
  },
  {
   "attachments": {},
   "cell_type": "markdown",
   "metadata": {},
   "source": [
    "### 處理 Dataset\n",
    "\n",
    "##### 引入 Dataset\n",
    "\n",
    "將貓狗`img`轉換成`array`放入`data`中，`label`放入 0、1 分別表示貓和狗  \n",
    "因為訓練用圖片大小不一，所以 Resize 成同一大小\n",
    "\n",
    "- 機器學習圖片設為灰階的原因：\n",
    "  - 減少計算量\n",
    "  - 很多演算法對於顏色的依賴性不強\n",
    "  - 識別物體關鍵是梯度，彩色的圖片可能會引響梯度的萃取(ex:光照、陰影等)\n",
    "  - RGB 不能反映圖像的形態特徵(只是在光學的原理上進行顏色調配)，**顏色所能帶來的信息不多**\n",
    "\n",
    "> 這裡使用 PIL 讀取圖片會報錯 `UnidentifiedImageError`  \n",
    "> 發現是 Microsoft 給的資料庫中，PetImages/Cat 和 Dog 資料夾分別有一張 0kB 的假照片  \n",
    "> 把那兩張照片移除，PIL 便可正常讀取  \n",
    "> 但這邊還是為了方便，使用 cv2 讀取\n"
   ]
  },
  {
   "cell_type": "code",
   "execution_count": null,
   "outputs": [],
   "source": [
    "import os\n",
    "\n",
    "dataset_dir = \"C:/Users/USER/Desktop/Master_0/ESC_LAB/assignment2/dataset\"\n",
    "train_dir = os.path.join(dataset_dir, \"train\")\n",
    "dict_lables = {\"cat\": 0, \"dog\": 1}\n",
    "size = (80, 80)\n",
    "data = []\n",
    "label = []\n",
    "\n",
    "def create_test_data(path):\n",
    "    for p in os.listdir(path):\n",
    "        category = p.split(\".\")[0]\n",
    "        category = dict_lables[category]\n",
    "        img = cv2.imread(os.path.join(path, p), cv2.IMREAD_GRAYSCALE)  # 圖片轉為灰階\n",
    "        img_arr = cv2.resize(img, dsize=size)  # 將圖片Resize\n",
    "        data.append(img_arr)\n",
    "        label.append(category)\n",
    "\n",
    "\n",
    "create_test_data(train_dir)"
   ],
   "metadata": {
    "collapsed": false
   }
  },
  {
   "attachments": {},
   "cell_type": "markdown",
   "metadata": {},
   "source": [
    "##### 處理圖片\n",
    "\n",
    "重新定義尺寸和將處理好的陣列儲存，方便下次不用再次處理資料  \n",
    "資料改變排列順序"
   ]
  },
  {
   "cell_type": "code",
   "execution_count": 13,
   "metadata": {},
   "outputs": [
    {
     "name": "stdout",
     "output_type": "stream",
     "text": [
      "data.shape: (25000, 80, 80, 1)\n",
      "label.shape: (25000,)\n",
      "<class 'numpy.ndarray'> <class 'numpy.ndarray'>\n"
     ]
    }
   ],
   "source": [
    "import random\n",
    "\n",
    "data = np.array(data).reshape(-1, 80, 80, 1)\n",
    "label = np.array(label)\n",
    "print(\"data.shape: {}\\nlabel.shape: {}\".format(data.shape, label.shape))\n",
    "print(type(data), type(label))\n",
    "\n",
    "# Normalize Data\n",
    "data = data / 255.0\n",
    "\n",
    "#資料重新排序(洗牌)\n",
    "temp = list(zip(data, label))\n",
    "random.shuffle(temp)\n",
    "data, label = zip(*temp)\n",
    "# 轉換回去array type\n",
    "data = np.array(data)\n",
    "label = np.array(label)\n",
    "\n",
    "# Save array in .npy file\n",
    "np.save(\"preprocessed_data\", data)\n",
    "np.save(\"preprocessed_label\", label)"
   ]
  },
  {
   "attachments": {},
   "cell_type": "markdown",
   "metadata": {},
   "source": [
    "#### 切割資料集\n",
    "切割為訓練集和測試集  \n",
    "train_test_split() 所接受的變數其實非常單純，基本上為 3 項：『原始的資料』、『Seed』、『比例』  \n",
    "這邊設定訓練資料80%，測試資料20%  \n",
    "* 原始的資料：就如同上方的 data 一般，是我們打算切成 Training data 以及 Test data 的原始資料\n",
    "* Seed： 亂數種子，可以固定我們切割資料的結果\n",
    "* 比例：可以設定 train_size 或 test_size，只要設定一邊即可，範圍在 [0-1] 之間"
   ]
  },
  {
   "cell_type": "code",
   "execution_count": 30,
   "metadata": {},
   "outputs": [
    {
     "name": "stdout",
     "output_type": "stream",
     "text": [
      "train data shape: (20000, 80, 80, 1)\n",
      "train data label shape: (20000,)\n",
      "test data shape: (2500, 80, 80, 1)\n",
      "test data label shape: (2500,)\n"
     ]
    }
   ],
   "source": [
    "import os\n",
    "from sklearn.model_selection import train_test_split\n",
    "\n",
    "output_dir = \"C:/Users/USER/Desktop/Master_0/ESC_LAB/assignment2/output\"\n",
    "\n",
    "#load .npy file\n",
    "data = np.load(os.path.join(output_dir, \"preprocessed_data.npy\"))\n",
    "label = np.load(os.path.join(output_dir, \"preprocessed_label.npy\"))\n",
    "\n",
    "#切割訓練資料集和測試資料集8:2\n",
    "train_data, test_data, train_label, test_label = train_test_split(\n",
    "    data, label, test_size=0.2, random_state=42)\n",
    "\n",
    "#從測試資料集切割1:1給驗證集\n",
    "validation_data, test_data, validation_label, test_label = train_test_split(\n",
    "    test_data, test_label, test_size=0.5, random_state=42)\n",
    "\n",
    "print(\"train data shape: {}\\ntrain data label shape: {}\".format(train_data.shape, train_label.shape))\n",
    "print(\"test data shape: {}\\ntest data label shape: {}\".format(test_data.shape, test_label.shape))"
   ]
  },
  {
   "attachments": {},
   "cell_type": "markdown",
   "metadata": {},
   "source": [
    "### CNN 模型的建立\n",
    "\n",
    "1. 要先建構神經網路架構，所以要靠 Sequential()來定義\n"
   ]
  },
  {
   "cell_type": "code",
   "execution_count": 31,
   "metadata": {},
   "outputs": [
    {
     "name": "stdout",
     "output_type": "stream",
     "text": [
      "Model: \"sequential\"\n",
      "_________________________________________________________________\n",
      "Layer (type)                 Output Shape              Param #   \n",
      "=================================================================\n",
      "conv2d (Conv2D)              (None, 78, 78, 64)        640       \n",
      "_________________________________________________________________\n",
      "max_pooling2d (MaxPooling2D) (None, 39, 39, 64)        0         \n",
      "_________________________________________________________________\n",
      "conv2d_1 (Conv2D)            (None, 37, 37, 64)        36928     \n",
      "_________________________________________________________________\n",
      "max_pooling2d_1 (MaxPooling2 (None, 18, 18, 64)        0         \n",
      "_________________________________________________________________\n",
      "flatten (Flatten)            (None, 20736)             0         \n",
      "_________________________________________________________________\n",
      "dense (Dense)                (None, 64)                1327168   \n",
      "_________________________________________________________________\n",
      "dense_1 (Dense)              (None, 1)                 65        \n",
      "=================================================================\n",
      "Total params: 1,364,801\n",
      "Trainable params: 1,364,801\n",
      "Non-trainable params: 0\n",
      "_________________________________________________________________\n"
     ]
    }
   ],
   "source": [
    "model = Sequential()\n",
    "\n",
    "model.add(Conv2D(64, (3, 3), activation='relu', input_shape=data.shape[1:]))\n",
    "model.add(MaxPooling2D(pool_size=(2, 2)))\n",
    "\n",
    "model.add(Conv2D(64, (3, 3), activation='relu'))\n",
    "model.add(MaxPooling2D(pool_size=(2, 2)))\n",
    "model.add(Flatten())\n",
    "model.add(Dense(64, activation='relu'))\n",
    "# Add a softmax layer with 10 output units:\n",
    "model.add(Dense(1, activation='sigmoid'))\n",
    "model.compile(optimizer=\"adam\",\n",
    "              loss='binary_crossentropy',\n",
    "              metrics=['accuracy'])\n",
    "model.summary()\n"
   ]
  },
  {
   "attachments": {},
   "cell_type": "markdown",
   "metadata": {},
   "source": [
    "### Run CNN\n",
    "\n",
    "> 在 Run tensorflow 的 code 時，一直出現 kernel die 的報錯\n",
    "> 看[官方集合問題](https://github.com/microsoft/vscode-jupyter/wiki/Kernel-crashes)後  \n",
    "> [解答](https://github.com/microsoft/vscode-jupyter/wiki/Kernel-crashes-when-using-tensorflow)\n",
    "> 重新安裝 tensorflow，就解決問題了\n",
    "\n",
    "> 要再次訓練的時候發現kernel又掛掉，是[cuDNN版本的問題](https://blog.csdn.net/qq_45071353/article/details/124091856)不相容導致的，改成cuDNN v8.0.5就可以了\n"
   ]
  },
  {
   "cell_type": "code",
   "execution_count": 32,
   "metadata": {},
   "outputs": [
    {
     "name": "stdout",
     "output_type": "stream",
     "text": [
      "Epoch 1/10\n",
      "2500/2500 [==============================] - 46s 16ms/step - loss: 0.6689 - accuracy: 0.5704 - val_loss: 0.5344 - val_accuracy: 0.7288\n",
      "Epoch 2/10\n",
      "2500/2500 [==============================] - 57s 23ms/step - loss: 0.5207 - accuracy: 0.7441 - val_loss: 0.4881 - val_accuracy: 0.7672\n",
      "Epoch 3/10\n",
      "2500/2500 [==============================] - 67s 27ms/step - loss: 0.4285 - accuracy: 0.7989 - val_loss: 0.4541 - val_accuracy: 0.7880\n",
      "Epoch 4/10\n",
      "2500/2500 [==============================] - 68s 27ms/step - loss: 0.3430 - accuracy: 0.8475 - val_loss: 0.4862 - val_accuracy: 0.7776\n",
      "Epoch 5/10\n",
      "2500/2500 [==============================] - 95s 38ms/step - loss: 0.2531 - accuracy: 0.8927 - val_loss: 0.5376 - val_accuracy: 0.7704\n",
      "Epoch 6/10\n",
      "2500/2500 [==============================] - 92s 37ms/step - loss: 0.1581 - accuracy: 0.9369 - val_loss: 0.6456 - val_accuracy: 0.7776\n",
      "Epoch 7/10\n",
      "2500/2500 [==============================] - 106s 43ms/step - loss: 0.0864 - accuracy: 0.9691 - val_loss: 0.8979 - val_accuracy: 0.7664\n",
      "Epoch 8/10\n",
      "2500/2500 [==============================] - 107s 43ms/step - loss: 0.0606 - accuracy: 0.9798 - val_loss: 1.0701 - val_accuracy: 0.7576\n",
      "Epoch 9/10\n",
      "2500/2500 [==============================] - 105s 42ms/step - loss: 0.0415 - accuracy: 0.9861 - val_loss: 1.2160 - val_accuracy: 0.7560\n",
      "Epoch 10/10\n",
      "2500/2500 [==============================] - 106s 42ms/step - loss: 0.0364 - accuracy: 0.9875 - val_loss: 1.2126 - val_accuracy: 0.7604\n"
     ]
    }
   ],
   "source": [
    "train_history = model.fit(train_data, train_label, epochs=10, batch_size=8,\n",
    "                          validation_data=(validation_data, validation_label), validation_freq=1)"
   ]
  },
  {
   "attachments": {},
   "cell_type": "markdown",
   "metadata": {},
   "source": [
    "### 訓練好的模型和資料儲存\n"
   ]
  },
  {
   "cell_type": "code",
   "execution_count": 34,
   "metadata": {},
   "outputs": [
    {
     "name": "stdout",
     "output_type": "stream",
     "text": [
      "       loss  accuracy  val_loss  val_accuracy\n",
      "0  0.629127   0.63585  0.534392        0.7288\n",
      "1  0.507190   0.75375  0.488080        0.7672\n",
      "2  0.428441   0.79830  0.454093        0.7880\n",
      "3  0.348789   0.84355  0.486237        0.7776\n",
      "4  0.257028   0.88765  0.537620        0.7704\n",
      "5  0.169282   0.93005  0.645632        0.7776\n",
      "6  0.096297   0.96355  0.897934        0.7664\n",
      "7  0.068234   0.97540  1.070066        0.7576\n",
      "8  0.047852   0.98400  1.216013        0.7560\n",
      "9  0.044770   0.98445  1.212647        0.7604 \n",
      "\n",
      "\n"
     ]
    }
   ],
   "source": [
    "import os\n",
    "\n",
    "os.chdir('C:/Users/USER/Desktop/Master_0/ESC_LAB/assignment2/output')\n",
    "history_data = pd.DataFrame.from_dict(train_history.history, orient='index').T\n",
    "history_data.to_excel('loss_accuracy_data.xlsx', sheet_name='sheet1', index=False)\n",
    "history_data.to_pickle('loss_accuracy_data.pkl')\n",
    "model.save(\"catdog_model.h5\")\n",
    "print(history_data, '\\n\\n')\n"
   ]
  },
  {
   "attachments": {},
   "cell_type": "markdown",
   "metadata": {},
   "source": [
    "### 繪製圖表"
   ]
  },
  {
   "cell_type": "code",
   "execution_count": 60,
   "metadata": {},
   "outputs": [
    {
     "data": {
      "text/plain": "<Figure size 800x800 with 3 Axes>",
      "image/png": "[encoded data removed]"
     },
     "metadata": {},
     "output_type": "display_data"
    }
   ],
   "source": [
    "import matplotlib.pyplot as plt\n",
    "\n",
    "def training_plot(_history):\n",
    "    loss = _history.history['loss']\n",
    "    val_loss = _history.history['val_loss']\n",
    "    acc = _history.history['accuracy']\n",
    "    val_acc = _history.history['val_accuracy']\n",
    "\n",
    "    #製作圖表\n",
    "    fig = plt.figure(figsize=(8, 8)) #建立畫板(8*4英吋)\n",
    "    # 描繪損失函數\n",
    "    fig1 = fig.add_subplot(221)  # 一行兩列的第一個\n",
    "    fig1.plot(loss, label='train_loss')\n",
    "    fig1.plot(val_loss, label='val_loss')\n",
    "    fig1.set_xlabel('Epochs')  #設定x軸\n",
    "    fig1.set_ylabel('Loss')  #設定y軸\n",
    "    fig1.set_title('Loss on Training and Validation Data')\n",
    "    fig1.legend() #給圖像加圖例\n",
    "    # plt.show()\n",
    "\n",
    "\n",
    "\n",
    "    # # subplot acc\n",
    "    fig2 = fig.add_subplot(222)\n",
    "    fig2.plot(acc,label='train_acc')\n",
    "    fig2.plot(val_acc,label='val_acc')\n",
    "    fig2.set_xlabel('Epochs')\n",
    "    fig2.set_ylabel('Accuracy')\n",
    "    fig2.set_title('Accuracy on Training and Validation Data')\n",
    "    fig2.legend() #給圖像加圖例\n",
    "\n",
    "\n",
    "    plt.subplot(223)\n",
    "    plt.plot(_history.history['accuracy'])\n",
    "    plt.plot(_history.history['val_accuracy'])\n",
    "    plt.title('Model Accuracy')\n",
    "    plt.ylabel('Accuracy')\n",
    "    plt.xlabel('Epoch')\n",
    "    plt.legend(['Train', 'Validation'], loc='upper left') #loc設置圖例位置\n",
    "\n",
    "    plt.tight_layout() #自動保持子圖的正確間距\n",
    "\n",
    "\n",
    "training_plot(train_history)\n"
   ]
  },
  {
   "attachments": {},
   "cell_type": "markdown",
   "metadata": {},
   "source": [
    "### 訓練 History 和資料讀檔\n"
   ]
  },
  {
   "cell_type": "code",
   "execution_count": 9,
   "metadata": {},
   "outputs": [
    {
     "name": "stdout",
     "output_type": "stream",
     "text": [
      "       loss  accuracy  val_loss  val_accuracy\n",
      "0  0.637411   0.63375  0.588221        0.7652\n",
      "1  0.533799   0.73055  1.399651        0.7512\n",
      "2  0.463602   0.78270       NaN           NaN\n",
      "3  0.392749   0.82225       NaN           NaN\n",
      "4  0.306166   0.86810       NaN           NaN\n",
      "5  0.215993   0.90990       NaN           NaN\n",
      "6  0.136969   0.94565       NaN           NaN\n",
      "7  0.094374   0.96385       NaN           NaN\n",
      "8  0.069323   0.97420       NaN           NaN\n",
      "9  0.057213   0.97735       NaN           NaN\n",
      "Model: \"sequential\"\n",
      "_________________________________________________________________\n",
      "Layer (type)                 Output Shape              Param #   \n",
      "=================================================================\n",
      "conv2d (Conv2D)              (None, 78, 78, 64)        640       \n",
      "_________________________________________________________________\n",
      "max_pooling2d (MaxPooling2D) (None, 39, 39, 64)        0         \n",
      "_________________________________________________________________\n",
      "conv2d_1 (Conv2D)            (None, 37, 37, 64)        36928     \n",
      "_________________________________________________________________\n",
      "max_pooling2d_1 (MaxPooling2 (None, 18, 18, 64)        0         \n",
      "_________________________________________________________________\n",
      "flatten (Flatten)            (None, 20736)             0         \n",
      "_________________________________________________________________\n",
      "dense (Dense)                (None, 64)                1327168   \n",
      "_________________________________________________________________\n",
      "dense_1 (Dense)              (None, 1)                 65        \n",
      "=================================================================\n",
      "Total params: 1,364,801\n",
      "Trainable params: 1,364,801\n",
      "Non-trainable params: 0\n",
      "_________________________________________________________________\n"
     ]
    }
   ],
   "source": [
    "import pandas as pd\n",
    "import os\n",
    "\n",
    "os.chdir('C:/Users/USER/Desktop/Master_0/ESC_LAB/assignment2/output')\n",
    "\n",
    "\n",
    "# 載入pkl檔案\n",
    "def read_history_pkl():\n",
    "    train_history = pd.read_pickle(\"loss_accuracy_data.pkl\")\n",
    "    print(train_history)\n",
    "\n",
    "\n",
    "read_history_pkl()\n",
    "# 載入訓練好的模型\n",
    "model = load_model('catdog_model.h5')\n",
    "# score = model.evaluate(data, label, verbose=0)\n",
    "# print('Test loss:', score[0])\n",
    "# print('Test accuracy:', score[1])\n",
    "model.summary()\n"
   ]
  },
  {
   "attachments": {},
   "cell_type": "markdown",
   "metadata": {},
   "source": [
    "### 測試模型\n"
   ]
  },
  {
   "cell_type": "code",
   "execution_count": null,
   "metadata": {},
   "outputs": [],
   "source": [
    "test_dir = os.path.join(os.getcwd(), \"dataset\", \"test1\")\n",
    "test_data = []\n",
    "id_line = []\n",
    "\n",
    "\n",
    "def create_test_data(path):\n",
    "    for f in os.listdir(test_dir):\n",
    "        id_line.append(f.split(\".\")[0])\n",
    "        img = cv2.imread(os.path.join(test_dir, f), cv2.IMREAD_GRAYSCALE)\n",
    "        img_arr = cv2.resize(img, dsize=(80, 80))\n",
    "        test_data.append(img_arr)\n",
    "\n",
    "\n",
    "create_test_data(test_dir)\n",
    "test_data = np.array(test_data).reshape(-1, 80, 80, 1)\n",
    "test_data = test_data / 255.0\n",
    "\n",
    "prediction = model.predict(test_data)"
   ]
  },
  {
   "cell_type": "code",
   "execution_count": null,
   "metadata": {},
   "outputs": [],
   "source": [
    "predicted_val = [int(round(p[0])) for p in prediction]\n",
    "submission_df = pd.DataFrame({'id': id_line, 'label': predicted_val})\n",
    "submission_df.to_excel(\"submission.xlsx\", sheet_name='sheet1', index=False)\n"
   ]
  },
  {
   "cell_type": "code",
   "execution_count": null,
   "metadata": {},
   "outputs": [],
   "source": []
  }
 ],
 "metadata": {
  "kernelspec": {
   "display_name": "env1",
   "language": "python",
   "name": "python3"
  },
  "language_info": {
   "codemirror_mode": {
    "name": "ipython",
    "version": 3
   },
   "file_extension": ".py",
   "mimetype": "text/x-python",
   "name": "python",
   "nbconvert_exporter": "python",
   "pygments_lexer": "ipython3",
   "version": "3.7.16"
  },
  "orig_nbformat": 4
 },
 "nbformat": 4,
 "nbformat_minor": 2
}
